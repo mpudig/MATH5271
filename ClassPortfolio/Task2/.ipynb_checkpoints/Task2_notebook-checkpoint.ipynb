{
 "cells": [
  {
   "cell_type": "markdown",
   "metadata": {},
   "source": [
    "# Task 2: Pacific SST Principle Component Analysis and Local Forecasts\n",
    "\n",
    "---\n",
    "\n",
    "This is Matt Pudig's notebook for MATH5271 class portfolio task 2 draft. \n",
    "\n",
    "In this notebook, we load and analyse both the 2D SST field from ERSSTv3b from years 1960 to 2016, as well as the complete dataset available from from the _Pacific Sea Level Monitoring Project_ for the Pacific island nation, Tonga.\n",
    "\n",
    "---\n",
    "\n",
    "_\"This task should include 3-4 original figures and approximately 1000 words of text. Your draft should include a solid attempt at parts 1 and 2 and at least a proposed outline of part 3. (The closer your draft is to complete the more useful your peer feedback will be).\"_\n",
    "\n",
    "---"
   ]
  },
  {
   "cell_type": "code",
   "execution_count": 1,
   "metadata": {},
   "outputs": [],
   "source": [
    "# Import libraries\n",
    "\n",
    "import numpy as np\n",
    "import xarray as xr\n",
    "import matplotlib.pyplot as plt\n",
    "import pandas as pd"
   ]
  },
  {
   "cell_type": "code",
   "execution_count": 2,
   "metadata": {},
   "outputs": [
    {
     "name": "stderr",
     "output_type": "stream",
     "text": [
      "Clonage dans 'tutorial-data'...\n"
     ]
    }
   ],
   "source": [
    "%%bash\n",
    "# Mounting requires a special 'bash' command\n",
    "git clone https://github.com/pangeo-data/tutorial-data.git"
   ]
  },
  {
   "cell_type": "markdown",
   "metadata": {},
   "source": [
    "Section 2.1\n",
    "---\n",
    "2.1 _\"Analyse both the 2D (latitude, longitude, time) data from the global Sea Surface Temperature (SST) data set used in the Week 4 Lab session and the entire set of years available from the  Pacific Sea Level Monitoring Project for the location you used in Task  1 (i.e. you will need to download more years). Discuss the differences in data provenance and compare the sea water temperature data gathered in situ to the values of the 2D data set at the nearest available data point.\"_\n",
    "\n",
    "---"
   ]
  },
  {
   "cell_type": "code",
   "execution_count": null,
   "metadata": {},
   "outputs": [],
   "source": [
    "---\n",
    "\n",
    "The data to be used in this notebook are sourced from Australia Bureau of Meteorology's _Pacific Sea Level Monitoring Project_ (http://www.bom.gov.au/oceanography/projects/spslcmp/data/index.shtml). According to the Bureau's description of the project, \"The primary goal of the project is to generate an accurate record of variance in long-term sea level for the Pacific region\" (http://www.bom.gov.au/pacific/projects/pslm/). \n",
    "\n",
    "\n",
    "The data are sourced from permanent tide guage facilities at each participating country. Tonga's facility has been providing measurements from January 1993 to the present day, according to the metadata document associated with its tide guage (http://www.bom.gov.au/ntc/IDO50000/IDO50000_66600.pdf). The data provided include air and water temperature measured in degrees celcius; wind direction (in degrees True), speed and gusts measured in metres per second; barometric pressure measured in hectopascals; sea level as measured above \"Tide Guage Zero\" in metres; residual sea levels in metres (e.g. -0.014m indicates that the observed sea level is 0.014m below predicted sea level); and adjusted residuals in metres (e.g. -0.077m indicates that the observed sea level is 0.077m below predicted sea level, adjusted for \"the static barometric pressure effect\"). \n",
    "\n",
    "A quality assessment of tidal observations is performed using a Sutron 9000, which undergoes calibration every 18 months. A monthly validation process occurs on the previous month's data by the National Tidal Centre Data Analysis Department. Any missing or erroneous values (e.g., impossible values) are set to -9999 and must be removed by the data user.\n",
    "\n",
    "---"
   ]
  },
  {
   "cell_type": "code",
   "execution_count": null,
   "metadata": {},
   "outputs": [],
   "source": []
  },
  {
   "cell_type": "markdown",
   "metadata": {},
   "source": [
    "Note: \"Consider how the area of the 'grid cells' of the SST data used changes with latitude and consider accounting for this in the determination of your PCs.\" Could multiply each SST by the cosine of the latitude, compute the PCs, and then divide the PCs by the cosine of the latitude? (As done in Smith et al. 1996, top of p.5)"
   ]
  },
  {
   "cell_type": "markdown",
   "metadata": {},
   "source": [
    "Greta: \"So the idea is to compute principle components of SST for a subset of the global data containing our weather station of interest, then use this data as a predictor for SST at our weather station of interest?\"\n",
    "\n",
    "Jan: \"Yeah yeah that's the idea. Compute the PCs. So you're basically developing a linearised model of the SST, and seeing if that can be used to predict the temperature at the actual tide guage stations.\"\n",
    "\n",
    "Greta: \"And to develop that model, you'd look at the temperature at the tide guage station, and try to fit your PC model to that?\"\n",
    "\n",
    "Jan: \"Yep yep, well... Your PC model would just be based on the SST data. And so, if you take the whole Tropical Pacific, you'll be looking at the whole PCs "
   ]
  }
 ],
 "metadata": {
  "kernelspec": {
   "display_name": "Python 3",
   "language": "python",
   "name": "python3"
  },
  "language_info": {
   "codemirror_mode": {
    "name": "ipython",
    "version": 3
   },
   "file_extension": ".py",
   "mimetype": "text/x-python",
   "name": "python",
   "nbconvert_exporter": "python",
   "pygments_lexer": "ipython3",
   "version": "3.7.4"
  }
 },
 "nbformat": 4,
 "nbformat_minor": 2
}
