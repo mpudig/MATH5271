{
 "cells": [
  {
   "cell_type": "markdown",
   "metadata": {},
   "source": [
    "# Introduction\n",
    "\n",
    "---\n",
    "\n",
    "This is Matt Pudig's notebook for MATH5271 class portfolio task 1. \n",
    "\n",
    "In this notebook, we load and analyse one year of hourly data from the Pacific Sea Level Monitoring Project for the Pacific island nation, Kiribati.\n",
    "\n",
    "_\"This task should include at least 3 original figures and approximately 1000 words of text. Your draft should include a solid attempt at parts 1 and 2 and at least a proposed outline of part 3. (The closer your draft is to complete the more useful your peer feedback will be).\"_\n",
    "\n",
    "---"
   ]
  },
  {
   "cell_type": "code",
   "execution_count": 2,
   "metadata": {},
   "outputs": [],
   "source": [
    "import pandas as pd\n",
    "import numpy as np\n",
    "import matplotlib.pyplot as plt\n",
    "\n",
    "%matplotlib inline"
   ]
  },
  {
   "cell_type": "markdown",
   "metadata": {},
   "source": [
    "### Section 1.1\n",
    "---\n",
    "1.1 _\"Download one year of hourly data for one location for the Pacific Sea Level Monitoring Project (http://www.bom.gov.au/oceanography/projects/spslcmp/data/index.shtml) and load these data into a platform such as Google Colaboratory. Briefly describe the source of these data (instruments, procedure, purpose etc) and display/describe the data graphically with one quality figure.\"_\n",
    "\n",
    "---"
   ]
  },
  {
   "cell_type": "code",
   "execution_count": 9,
   "metadata": {},
   "outputs": [],
   "source": [
    "# Load in the csv file from my public github repository: https://github.com/mpudig/MATH5271/tree/main/ClassPortfolio/Task1\n",
    "\n",
    "url = 'https://raw.githubusercontent.com/mpudig/MATH5271/main/ClassPortfolio/Task1/kiribati_SLR.csv'\n",
    "df = pd.read_csv(url)"
   ]
  },
  {
   "cell_type": "markdown",
   "metadata": {},
   "source": [
    "---\n",
    "\n",
    "The data to be used in this notebook are sourced from Australia Bureau of Meteorology's _Pacific Sea Level Monitoring Project_ (http://www.bom.gov.au/oceanography/projects/spslcmp/data/index.shtml). blah...\n",
    "\n",
    "---"
   ]
  },
  {
   "cell_type": "markdown",
   "metadata": {},
   "source": [
    "### Section 1.2\n",
    "---\n",
    "1.2 _\"Investigate these data using frequency domain analysis techniques. For example, fit a discrete number of harmonics to the air and water temperature data and compute the spectral density of the sea-level data. Explain the maths underpinning this analysis and explicitly code at least some of the diagnostics (e.g. write a code to determine Fourier coefficients).\"_\n",
    "\n",
    "---"
   ]
  },
  {
   "cell_type": "markdown",
   "metadata": {},
   "source": [
    "### Section 1.3\n",
    "---\n",
    "1.3 _\"Interpret these analyses in terms of putative physical processes such as the seasonal cycle and the tides. Discuss what aspects of the results are real physical signals and which could indicate aliasing or similar issues related to the data set.\"_\n",
    "\n",
    "---"
   ]
  },
  {
   "cell_type": "code",
   "execution_count": null,
   "metadata": {},
   "outputs": [],
   "source": []
  }
 ],
 "metadata": {
  "kernelspec": {
   "display_name": "Python 3",
   "language": "python",
   "name": "python3"
  },
  "language_info": {
   "codemirror_mode": {
    "name": "ipython",
    "version": 3
   },
   "file_extension": ".py",
   "mimetype": "text/x-python",
   "name": "python",
   "nbconvert_exporter": "python",
   "pygments_lexer": "ipython3",
   "version": "3.7.4"
  }
 },
 "nbformat": 4,
 "nbformat_minor": 2
}
