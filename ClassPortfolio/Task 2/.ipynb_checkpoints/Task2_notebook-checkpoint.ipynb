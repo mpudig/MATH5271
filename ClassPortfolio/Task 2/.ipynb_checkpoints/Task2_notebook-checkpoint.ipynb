{
 "cells": [
  {
   "cell_type": "markdown",
   "metadata": {},
   "source": [
    "# Task 2: Pacific SST Principle Component Analysis and Local Forecasts\n",
    "\n",
    "---\n",
    "\n",
    "This is Matt Pudig's notebook for MATH5271 class portfolio task 2 draft. \n",
    "\n",
    "In this notebook, we load and analyse both the 2D SST field from ERSSTv3b from years 1960 to 2016, as well as the complete dataset available from from the _Pacific Sea Level Monitoring Project_ for the Pacific island nation, Tonga.\n",
    "\n",
    "---\n",
    "\n",
    "_\"This task should include 3-4 original figures and approximately 1000 words of text. Your draft should include a solid attempt at parts 1 and 2 and at least a proposed outline of part 3. (The closer your draft is to complete the more useful your peer feedback will be).\"_\n",
    "\n",
    "---"
   ]
  },
  {
   "cell_type": "code",
   "execution_count": 1,
   "metadata": {},
   "outputs": [],
   "source": [
    "# Import libraries\n",
    "\n",
    "import numpy as np\n",
    "import xarray as xr\n",
    "import matplotlib.pyplot as plt\n",
    "import pandas as pd"
   ]
  },
  {
   "cell_type": "code",
   "execution_count": 2,
   "metadata": {},
   "outputs": [
    {
     "name": "stderr",
     "output_type": "stream",
     "text": [
      "Clonage dans 'tutorial-data'...\n"
     ]
    }
   ],
   "source": [
    "%%bash\n",
    "# Mounting requires a special 'bash' command\n",
    "git clone https://github.com/pangeo-data/tutorial-data.git"
   ]
  },
  {
   "cell_type": "markdown",
   "metadata": {},
   "source": [
    "Section 2.1\n",
    "---\n",
    "2.1 _\"Analyse both the 2D (latitude, longitude, time) data from the global Sea Surface Temperature (SST) data set used in the Week 4 Lab session and the entire set of years available from the  Pacific Sea Level Monitoring Project for the location you used in Task  1 (i.e. you will need to download more years). Discuss the differences in data provenance and compare the sea water temperature data gathered in situ to the values of the 2D data set at the nearest available data point.\"_\n",
    "\n",
    "---"
   ]
  },
  {
   "cell_type": "code",
   "execution_count": null,
   "metadata": {},
   "outputs": [],
   "source": []
  },
  {
   "cell_type": "code",
   "execution_count": null,
   "metadata": {},
   "outputs": [],
   "source": []
  },
  {
   "cell_type": "markdown",
   "metadata": {},
   "source": [
    "Note: \"Consider how the area of the 'grid cells' of the SST data used changes with latitude and consider accounting for this in the determination of your PCs.\" Could multiply each SST by the cosine of the latitude, compute the PCs, and then divide the PCs by the cosine of the latitude? (As done in Smith et al. 1996, top of p.5)"
   ]
  },
  {
   "cell_type": "code",
   "execution_count": null,
   "metadata": {},
   "outputs": [],
   "source": []
  }
 ],
 "metadata": {
  "kernelspec": {
   "display_name": "Python 3",
   "language": "python",
   "name": "python3"
  },
  "language_info": {
   "codemirror_mode": {
    "name": "ipython",
    "version": 3
   },
   "file_extension": ".py",
   "mimetype": "text/x-python",
   "name": "python",
   "nbconvert_exporter": "python",
   "pygments_lexer": "ipython3",
   "version": "3.7.4"
  }
 },
 "nbformat": 4,
 "nbformat_minor": 2
}
