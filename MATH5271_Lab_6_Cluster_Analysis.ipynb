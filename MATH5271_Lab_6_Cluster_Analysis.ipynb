{
  "nbformat": 4,
  "nbformat_minor": 0,
  "metadata": {
    "colab": {
      "name": "MATH5271 Lab 6 Cluster Analysis.ipynb",
      "provenance": [],
      "collapsed_sections": [
        "UcaqAkrbc7B2"
      ],
      "include_colab_link": true
    },
    "kernelspec": {
      "display_name": "Python 3",
      "name": "python3"
    }
  },
  "cells": [
    {
      "cell_type": "markdown",
      "metadata": {
        "id": "view-in-github",
        "colab_type": "text"
      },
      "source": [
        "<a href=\"https://colab.research.google.com/github/mpudig/MATH5271/blob/main/MATH5271_Lab_6_Cluster_Analysis.ipynb\" target=\"_parent\"><img src=\"https://colab.research.google.com/assets/colab-badge.svg\" alt=\"Open In Colab\"/></a>"
      ]
    },
    {
      "cell_type": "markdown",
      "metadata": {
        "id": "pumJKWaN_KQp"
      },
      "source": [
        "# MATH5271 Lab 6\n",
        "\n",
        "# Discrimination, Classification and Clustering\n",
        "\n",
        "Welcome to the 6th MATH5271 lab session. In this lab we will discuss Discrimination, Classification and Clustering. By the end of this lab you should be able to:\n",
        "\n",
        "- Calculate the Fisher's Linear Discriminant and use it to discriminate between two groups within a data set;\n",
        "- Use gaussian probablisitic discrimination to discriminate between 3 groups and use this to probablistically classify new data;\n",
        "- Calculate distances between data points and cluster points according to a heirarchical clustering algorithm.\n",
        "\n",
        "## Google Colaboratory\n",
        "\n",
        "We will run the python labs in [Google Colaboratory](colab.research.google.com). Google Colab is a web-based computational environment in which you can read, write, and execute interactive *notebooks* like the one you are reading. The python code runs on a virtual machine in the cloud, so you don't need to install python on your local machine. \n",
        "\n",
        "Before you begin the lab, you will need to [sign up](https://accounts.google.com/signup) for a free Google account. If you do not wish to sign up for a Google account, that's fine: you will still be able to read through the lab. You just won't be able to make edits or run any code. \n",
        "\n",
        "## Colaboratory and Google Drive\n",
        "\n",
        "If you have a Google account, you can mount your Google drive within the Colab environment by copying and pasting the code below into a new cell (click \"+ Code\"). This is not required to run the lab (figures and movies will be saved to the Colab virtual machine and played in your browser). \n",
        "```\n",
        "from google.colab import drive\n",
        "drive.mount('/gdrive')\n",
        "!ln -s \"/gdrive/My Drive/\" \"/content/\"'\n",
        "```"
      ]
    },
    {
      "cell_type": "markdown",
      "metadata": {
        "id": "I1N5bw-kBB1e"
      },
      "source": [
        "## 1. Setup and Load Data\n",
        "\n",
        "Before we get started we need to ensure we have the appropriate 'libraries' are installed. You can think of these as opening a box of available tools. The .csv files we upload will be uploaded into a 'pandas' data frame. We will use the 'numpy' (numerical python) package to do some basic maths with the data and Matplotlib's 'pyplot' package to make some pretty graphs. \n",
        "\n",
        "\n",
        "There are many other packages and libraries avaialble freely in python especially for the current topic (e.g. Skitlearn). We will experiment with a few in this course but will only really scratch the surface. I will try to keep things as simple as possible so we can focus on understanding - rather than trouble shooting technical issues."
      ]
    },
    {
      "cell_type": "code",
      "metadata": {
        "id": "CvkqAIxihwge"
      },
      "source": [
        "# import libraries\n",
        "import pandas as pd\n",
        "\n",
        "# Numerics\n",
        "import numpy as np\n",
        "\n",
        "# Plotting\n",
        "import matplotlib.pyplot as plt\n",
        "\n",
        "# plot figures in Colaboratory notebook\n",
        "%matplotlib inline"
      ],
      "execution_count": null,
      "outputs": []
    },
    {
      "cell_type": "markdown",
      "metadata": {
        "id": "b0euklFmVr_D"
      },
      "source": [
        "The first data set we look at will be example data table 13.1 from Wilks which contains mean temperature and precipiation data for various US cities.\n",
        "\n",
        "We will load the data table as a pandas 'DataFrame'. This is a 2-dimensional data structure that can store data of different types and has inbuilt operations (like calcualting statistics and doing basic plots)."
      ]
    },
    {
      "cell_type": "code",
      "metadata": {
        "id": "0dAUuRx8l8CQ",
        "colab": {
          "base_uri": "https://localhost:8080/",
          "height": 955
        },
        "outputId": "888c9807-2a60-4f09-f050-33b11d391a9e"
      },
      "source": [
        ")# Define the URL where the data set is stored\n",
        "dfurl='https://raw.githubusercontent.com/janzika/MATH5271/main/WilksTable13.1.csv'\n",
        "HM_url ='http://environmentalcomputing.net/wp-content/uploads/2016/05/Harbour_metals.csv' #the data set as a Pandas Dataframe using the 'read_csv' function\n",
        "df1 = pd.read_csv(dfurl)\n",
        "dfhm = pd.read_csv(HM_url)\n",
        "df1"
      ],
      "execution_count": null,
      "outputs": [
        {
          "output_type": "execute_result",
          "data": {
            "text/html": [
              "<div>\n",
              "<style scoped>\n",
              "    .dataframe tbody tr th:only-of-type {\n",
              "        vertical-align: middle;\n",
              "    }\n",
              "\n",
              "    .dataframe tbody tr th {\n",
              "        vertical-align: top;\n",
              "    }\n",
              "\n",
              "    .dataframe thead th {\n",
              "        text-align: right;\n",
              "    }\n",
              "</style>\n",
              "<table border=\"1\" class=\"dataframe\">\n",
              "  <thead>\n",
              "    <tr style=\"text-align: right;\">\n",
              "      <th></th>\n",
              "      <th>Station</th>\n",
              "      <th>Temp</th>\n",
              "      <th>Ppt</th>\n",
              "      <th>Group</th>\n",
              "      <th>sym</th>\n",
              "    </tr>\n",
              "  </thead>\n",
              "  <tbody>\n",
              "    <tr>\n",
              "      <th>0</th>\n",
              "      <td>Athens, GA</td>\n",
              "      <td>79.2</td>\n",
              "      <td>5.18</td>\n",
              "      <td>Southeast US</td>\n",
              "      <td>o</td>\n",
              "    </tr>\n",
              "    <tr>\n",
              "      <th>1</th>\n",
              "      <td>Atlanta, GA</td>\n",
              "      <td>78.6</td>\n",
              "      <td>4.73</td>\n",
              "      <td>Southeast US</td>\n",
              "      <td>o</td>\n",
              "    </tr>\n",
              "    <tr>\n",
              "      <th>2</th>\n",
              "      <td>Augusta, GA</td>\n",
              "      <td>80.6</td>\n",
              "      <td>4.40</td>\n",
              "      <td>Southeast US</td>\n",
              "      <td>o</td>\n",
              "    </tr>\n",
              "    <tr>\n",
              "      <th>3</th>\n",
              "      <td>Gainesville, FL</td>\n",
              "      <td>80.8</td>\n",
              "      <td>6.99</td>\n",
              "      <td>Southeast US</td>\n",
              "      <td>o</td>\n",
              "    </tr>\n",
              "    <tr>\n",
              "      <th>4</th>\n",
              "      <td>Huntsville, AL</td>\n",
              "      <td>79.3</td>\n",
              "      <td>5.05</td>\n",
              "      <td>Southeast US</td>\n",
              "      <td>o</td>\n",
              "    </tr>\n",
              "    <tr>\n",
              "      <th>5</th>\n",
              "      <td>Jacksonville, FL</td>\n",
              "      <td>81.3</td>\n",
              "      <td>6.54</td>\n",
              "      <td>Southeast US</td>\n",
              "      <td>o</td>\n",
              "    </tr>\n",
              "    <tr>\n",
              "      <th>6</th>\n",
              "      <td>Macon, GA</td>\n",
              "      <td>81.4</td>\n",
              "      <td>4.46</td>\n",
              "      <td>Southeast US</td>\n",
              "      <td>o</td>\n",
              "    </tr>\n",
              "    <tr>\n",
              "      <th>7</th>\n",
              "      <td>Montgomery, AL</td>\n",
              "      <td>81.7</td>\n",
              "      <td>4.78</td>\n",
              "      <td>Southeast US</td>\n",
              "      <td>o</td>\n",
              "    </tr>\n",
              "    <tr>\n",
              "      <th>8</th>\n",
              "      <td>Pensacola, FL</td>\n",
              "      <td>82.3</td>\n",
              "      <td>7.18</td>\n",
              "      <td>Southeast US</td>\n",
              "      <td>o</td>\n",
              "    </tr>\n",
              "    <tr>\n",
              "      <th>9</th>\n",
              "      <td>Savannah, GA</td>\n",
              "      <td>81.2</td>\n",
              "      <td>7.37</td>\n",
              "      <td>Southeast US</td>\n",
              "      <td>o</td>\n",
              "    </tr>\n",
              "    <tr>\n",
              "      <th>10</th>\n",
              "      <td>Concordia, KS</td>\n",
              "      <td>79.0</td>\n",
              "      <td>3.37</td>\n",
              "      <td>Central US</td>\n",
              "      <td>x</td>\n",
              "    </tr>\n",
              "    <tr>\n",
              "      <th>11</th>\n",
              "      <td>Des Moines, IA</td>\n",
              "      <td>76.3</td>\n",
              "      <td>3.22</td>\n",
              "      <td>Central US</td>\n",
              "      <td>x</td>\n",
              "    </tr>\n",
              "    <tr>\n",
              "      <th>12</th>\n",
              "      <td>Dodge City, KS</td>\n",
              "      <td>80.0</td>\n",
              "      <td>3.08</td>\n",
              "      <td>Central US</td>\n",
              "      <td>x</td>\n",
              "    </tr>\n",
              "    <tr>\n",
              "      <th>13</th>\n",
              "      <td>Kansas City, MO</td>\n",
              "      <td>78.5</td>\n",
              "      <td>4.35</td>\n",
              "      <td>Central US</td>\n",
              "      <td>x</td>\n",
              "    </tr>\n",
              "    <tr>\n",
              "      <th>14</th>\n",
              "      <td>Lincoln, NE</td>\n",
              "      <td>77.6</td>\n",
              "      <td>3.20</td>\n",
              "      <td>Central US</td>\n",
              "      <td>x</td>\n",
              "    </tr>\n",
              "    <tr>\n",
              "      <th>15</th>\n",
              "      <td>Springfield, MO</td>\n",
              "      <td>78.8</td>\n",
              "      <td>3.58</td>\n",
              "      <td>Central US</td>\n",
              "      <td>x</td>\n",
              "    </tr>\n",
              "    <tr>\n",
              "      <th>16</th>\n",
              "      <td>St. Louis, MO</td>\n",
              "      <td>78.9</td>\n",
              "      <td>3.63</td>\n",
              "      <td>Central US</td>\n",
              "      <td>x</td>\n",
              "    </tr>\n",
              "    <tr>\n",
              "      <th>17</th>\n",
              "      <td>Topeka, KS</td>\n",
              "      <td>78.6</td>\n",
              "      <td>4.04</td>\n",
              "      <td>Central US</td>\n",
              "      <td>x</td>\n",
              "    </tr>\n",
              "    <tr>\n",
              "      <th>18</th>\n",
              "      <td>Wichita, KS</td>\n",
              "      <td>81.4</td>\n",
              "      <td>3.62</td>\n",
              "      <td>Central US</td>\n",
              "      <td>x</td>\n",
              "    </tr>\n",
              "    <tr>\n",
              "      <th>19</th>\n",
              "      <td>Albany, NY</td>\n",
              "      <td>71.4</td>\n",
              "      <td>3.00</td>\n",
              "      <td>Northeast US</td>\n",
              "      <td>+</td>\n",
              "    </tr>\n",
              "    <tr>\n",
              "      <th>20</th>\n",
              "      <td>Binghamton, NY</td>\n",
              "      <td>68.9</td>\n",
              "      <td>3.48</td>\n",
              "      <td>Northeast US</td>\n",
              "      <td>+</td>\n",
              "    </tr>\n",
              "    <tr>\n",
              "      <th>21</th>\n",
              "      <td>Boston, MA</td>\n",
              "      <td>73.5</td>\n",
              "      <td>2.68</td>\n",
              "      <td>Northeast US</td>\n",
              "      <td>+</td>\n",
              "    </tr>\n",
              "    <tr>\n",
              "      <th>22</th>\n",
              "      <td>Bridgeport, CT</td>\n",
              "      <td>74.0</td>\n",
              "      <td>3.46</td>\n",
              "      <td>Northeast US</td>\n",
              "      <td>+</td>\n",
              "    </tr>\n",
              "    <tr>\n",
              "      <th>23</th>\n",
              "      <td>Burlington, VT</td>\n",
              "      <td>69.6</td>\n",
              "      <td>3.43</td>\n",
              "      <td>Northeast US</td>\n",
              "      <td>+</td>\n",
              "    </tr>\n",
              "    <tr>\n",
              "      <th>24</th>\n",
              "      <td>Hartford, CT</td>\n",
              "      <td>73.4</td>\n",
              "      <td>3.09</td>\n",
              "      <td>Northeast US</td>\n",
              "      <td>+</td>\n",
              "    </tr>\n",
              "    <tr>\n",
              "      <th>25</th>\n",
              "      <td>Portland, ME</td>\n",
              "      <td>68.1</td>\n",
              "      <td>2.83</td>\n",
              "      <td>Northeast US</td>\n",
              "      <td>+</td>\n",
              "    </tr>\n",
              "    <tr>\n",
              "      <th>26</th>\n",
              "      <td>Providence, RI</td>\n",
              "      <td>72.5</td>\n",
              "      <td>3.01</td>\n",
              "      <td>Northeast US</td>\n",
              "      <td>+</td>\n",
              "    </tr>\n",
              "    <tr>\n",
              "      <th>27</th>\n",
              "      <td>Worcester, MA</td>\n",
              "      <td>69.9</td>\n",
              "      <td>3.58</td>\n",
              "      <td>Northeast US</td>\n",
              "      <td>+</td>\n",
              "    </tr>\n",
              "  </tbody>\n",
              "</table>\n",
              "</div>"
            ],
            "text/plain": [
              "             Station  Temp   Ppt         Group sym\n",
              "0         Athens, GA  79.2  5.18  Southeast US   o\n",
              "1        Atlanta, GA  78.6  4.73  Southeast US   o\n",
              "2        Augusta, GA  80.6  4.40  Southeast US   o\n",
              "3    Gainesville, FL  80.8  6.99  Southeast US   o\n",
              "4     Huntsville, AL  79.3  5.05  Southeast US   o\n",
              "5   Jacksonville, FL  81.3  6.54  Southeast US   o\n",
              "6          Macon, GA  81.4  4.46  Southeast US   o\n",
              "7     Montgomery, AL  81.7  4.78  Southeast US   o\n",
              "8      Pensacola, FL  82.3  7.18  Southeast US   o\n",
              "9       Savannah, GA  81.2  7.37  Southeast US   o\n",
              "10     Concordia, KS  79.0  3.37    Central US   x\n",
              "11    Des Moines, IA  76.3  3.22    Central US   x\n",
              "12    Dodge City, KS  80.0  3.08    Central US   x\n",
              "13   Kansas City, MO  78.5  4.35    Central US   x\n",
              "14       Lincoln, NE  77.6  3.20    Central US   x\n",
              "15   Springfield, MO  78.8  3.58    Central US   x\n",
              "16     St. Louis, MO  78.9  3.63    Central US   x\n",
              "17        Topeka, KS  78.6  4.04    Central US   x\n",
              "18       Wichita, KS  81.4  3.62    Central US   x\n",
              "19        Albany, NY  71.4  3.00  Northeast US   +\n",
              "20    Binghamton, NY  68.9  3.48  Northeast US   +\n",
              "21        Boston, MA  73.5  2.68  Northeast US   +\n",
              "22    Bridgeport, CT  74.0  3.46  Northeast US   +\n",
              "23    Burlington, VT  69.6  3.43  Northeast US   +\n",
              "24      Hartford, CT  73.4  3.09  Northeast US   +\n",
              "25      Portland, ME  68.1  2.83  Northeast US   +\n",
              "26    Providence, RI  72.5  3.01  Northeast US   +\n",
              "27     Worcester, MA  69.9  3.58  Northeast US   +"
            ]
          },
          "metadata": {},
          "execution_count": 3
        }
      ]
    },
    {
      "cell_type": "markdown",
      "metadata": {
        "id": "J1E0UZ5V1opd"
      },
      "source": [
        "## Discrimination\n",
        "\n",
        "We have a data set containing mean July temperatures and accumulated rainfall totals for July in various cities in the United States. These have been classified into 3 groups: Southeast; Central and Northeast.\n",
        "\n",
        "Our aim with discrimination is to develop ascertain what about the variables in the data set distinguish the different groups.\n",
        "\n",
        "Let's start by just making a scatter plot of the Southeast and Central Goups."
      ]
    },
    {
      "cell_type": "code",
      "metadata": {
        "colab": {
          "base_uri": "https://localhost:8080/",
          "height": 372
        },
        "id": "BmpQPD6gQI-6",
        "outputId": "2c9cfecf-f083-48e6-c20f-f73c05e546ca"
      },
      "source": [
        "# Get only the Southeast data\n",
        "x1 = np.array([df1[df1['sym'].isin(['o'])].Temp, df1[df1['sym'].isin(['o'])].Ppt])\n",
        "# Only Central\n",
        "x2 = np.array([df1[df1['sym'].isin(['x'])].Temp, df1[df1['sym'].isin(['x'])].Ppt])\n",
        "# Only Northeast\n",
        "x3 = np.array([df1[df1['sym'].isin(['+'])].Temp, df1[df1['sym'].isin(['+'])].Ppt])\n",
        "# Plot just the Central and Southeast\n",
        "plt.scatter(x1[0,:],x1[1,:],label = 'Southeastern US')\n",
        "plt.scatter(x2[0,:],x2[1,:],label = 'Central US')\n",
        "plt.legend()\n",
        "plt.xlabel('July Mean Temp. [Far.]')\n",
        "plt.ylabel('July Mean Precip. [Inches]')"
      ],
      "execution_count": null,
      "outputs": [
        {
          "output_type": "execute_result",
          "data": {
            "text/plain": [
              "Text(0, 0.5, 'July Mean Precip. [Inches]')"
            ]
          },
          "metadata": {},
          "execution_count": 222
        },
        {
          "output_type": "display_data",
          "data": {
            "image/png": "[encoded data removed]",
            "text/plain": [
              "<Figure size 720x360 with 1 Axes>"
            ]
          },
          "metadata": {
            "needs_background": "light"
          }
        }
      ]
    },
    {
      "cell_type": "markdown",
      "metadata": {
        "id": "LwCbFD6l3VA-"
      },
      "source": [
        "### Fisher's Linear Discriminant\n",
        "\n",
        "In order to derive Fisher's Discriminant we need to know a few things about the data first. Obviously the mean's and centroid of each group but also their covariance matricies ($S_1$,$S_2$,$S_3$). \n",
        "\n",
        "We also need to calculate what is called the common covariance matrix \n",
        "\n",
        "$$ S_{pool} = \\frac{n_1-1}{n_1+n_2-2}S_1 + \\frac{n_2-1}{n_1+n_2-2}S_2.$$"
      ]
    },
    {
      "cell_type": "code",
      "metadata": {
        "id": "e_og2S6q4JWM",
        "colab": {
          "base_uri": "https://localhost:8080/"
        },
        "outputId": "f716011f-dc75-458a-fa88-0185ae2d2db9"
      },
      "source": [
        "# Mean of the Southeast and Central data\n",
        "x1mean = np.mean(x1,axis=1)\n",
        "x2mean = np.mean(x2,axis=1)\n",
        "x2mean = np.mean(x2,axis=1)\n",
        "# Covariance of the Southeast and Central data\n",
        "S1 = np.cov(x1)\n",
        "S2 = np.cov(x2)\n",
        "S3 = np.cov(x3)\n",
        "# Number of locations\n",
        "n1 = x1.shape[1]\n",
        "n2 = x3.shape[1]\n",
        "n3 = x3.shape[1]\n",
        "#Pooled Covariance (weighted average of two)\n",
        "Spool = ((n1-1)/(n1+n2-2))*S1 + ((n2-1)/(n1+n2-2))*S2"
      ],
      "execution_count": null,
      "outputs": [
        {
          "output_type": "execute_result",
          "data": {
            "text/plain": [
              "9"
            ]
          },
          "metadata": {},
          "execution_count": 230
        }
      ]
    },
    {
      "cell_type": "markdown",
      "metadata": {
        "id": "mZk00v1X5H3j"
      },
      "source": [
        "According to Fisher's theory, assuming the covariance matricies are equal for the two groups the maximum difference in means between the two groups (maximimum Mahalanobis distance between the two centroids more precisely) is acheived by discriminating the data in the direction \n",
        "\n",
        "$$ {\\bf a} = [S_{pool}]^{-1}(\\overline{\\bf x}_1 - \\overline{\\bf x}_2). $$\n",
        "\n",
        "Let's plot the centroids and this 'discriminant vector' $\\bf a$ on the original data."
      ]
    },
    {
      "cell_type": "code",
      "metadata": {
        "id": "_53wYPBC5Gqb"
      },
      "source": [
        "\n"
      ],
      "execution_count": null,
      "outputs": []
    },
    {
      "cell_type": "code",
      "metadata": {
        "colab": {
          "base_uri": "https://localhost:8080/",
          "height": 372
        },
        "id": "MRZfJzWkZoe9",
        "outputId": "a1329121-02c9-4098-8fa9-f01066502106"
      },
      "source": [
        "#Discriminant vector\n",
        "a = np.matmul(np.linalg.inv(Spool),(x1mean - x2mean))\n",
        "# Plot\n",
        "plt.scatter(x1[0,:],x1[1,:],label = 'Southeastern US')\n",
        "plt.scatter(x2[0,:],x2[1,:],label = 'Central US')\n",
        "# Plot means\n",
        "plt.plot(x1mean[0],x1mean[1],'ok',label = '$\\overline{x_1}$')\n",
        "plt.plot(x2mean[0],x2mean[1],'xk',label = '$\\overline{x_2}$')\n",
        "# There is no real reason why I started the a vector at x1mean...\n",
        "plt.plot(x2mean[0],x2mean[1],'*r',label = '$a$')\n",
        "plt.arrow(x2mean[0],x2mean[1],a[0],a[1],\\\n",
        "          head_width=0.5,head_length=0.5, fc='r', ec='r')\n",
        "plt.legend()\n",
        "plt.xlabel('July Mean Temp. [Far.]')\n",
        "plt.ylabel('July Mean Precip. [Inches]')"
      ],
      "execution_count": null,
      "outputs": [
        {
          "output_type": "execute_result",
          "data": {
            "text/plain": [
              "Text(0, 0.5, 'July Mean Precip. [Inches]')"
            ]
          },
          "metadata": {},
          "execution_count": 231
        },
        {
          "output_type": "display_data",
          "data": {
            "image/png": "[encoded data removed]",
            "text/plain": [
              "<Figure size 720x360 with 1 Axes>"
            ]
          },
          "metadata": {
            "needs_background": "light"
          }
        }
      ]
    },
    {
      "cell_type": "markdown",
      "metadata": {
        "id": "EH24w_z38XnY"
      },
      "source": [
        "Now that we have a direction to do our discrimination with we can now actually compute the 'Fisher's Linear Discriminant' for each data point $\\bf x$ such that\n",
        "\n",
        "$$\\delta_1({\\bf x}) = {\\bf a}^T {\\bf x}.$$\n",
        "\n",
        "Finally, we can set the mid point between the $\\delta_1(\\overline{\\bf x}_1)$ and $\\delta_1(\\overline{\\bf x}_2)$ as our line of discrimination $\\hat{m}$. That is\n",
        "\n",
        "$$ \\hat{m} = \\frac{1}{2}({\\bf a}^T \\overline{\\bf x}_1-{\\bf a}^T \\overline{\\bf x}_2)$$\n",
        "\n",
        "Let's looks at how our data is distributed along $\\delta_1$ and where $\\hat{m}$ sits. "
      ]
    },
    {
      "cell_type": "code",
      "metadata": {
        "colab": {
          "base_uri": "https://localhost:8080/",
          "height": 375
        },
        "id": "lN2YoNfaEeHh",
        "outputId": "498dd9bf-b528-4a88-894b-310cb5986526"
      },
      "source": [
        "#Fisher's linear discriminant for the two groups\n",
        "d1_1 = np.matmul(np.transpose(a),x1)\n",
        "d1_2 = np.matmul(np.transpose(a),x2)\n",
        "#midpoint between groups\n",
        "m = 0.5*(np.matmul(np.transpose(a),x1mean)+np.matmul(np.transpose(a),x2mean))\n",
        "#Plot histograms (with many bins) and label where m is\n",
        "plt.hist(d1_1,50,label = 'Southeastern US')\n",
        "plt.hist(d1_2,50,label = 'Central US')\n",
        "plt.plot(m,0.5,'*k',label = '$\\hat{m}$')\n",
        "plt.xlabel('Fisher\\'s Discriminant ($\\delta_1$)')\n",
        "plt.ylabel('Frequency')\n",
        "plt.legend()"
      ],
      "execution_count": null,
      "outputs": [
        {
          "output_type": "execute_result",
          "data": {
            "text/plain": [
              "<matplotlib.legend.Legend at 0x7fbb69e958d0>"
            ]
          },
          "metadata": {},
          "execution_count": 238
        },
        {
          "output_type": "display_data",
          "data": {
            "image/png": "[encoded data removed]",
            "text/plain": [
              "<Figure size 720x360 with 1 Axes>"
            ]
          },
          "metadata": {
            "needs_background": "light"
          }
        }
      ]
    },
    {
      "cell_type": "markdown",
      "metadata": {
        "id": "k8sisyUq_k60"
      },
      "source": [
        "As you can see this method of discrimination only does so well since 1 point (actually Atlanta) is in the wrong group. In a way this highlights the fact that using only the means and covariances of groups can only take you so far. In any case, a probablisitic approach may be preferential."
      ]
    },
    {
      "cell_type": "markdown",
      "metadata": {
        "id": "SbR7HFeYAIGr"
      },
      "source": [
        "### 3. Classification using Probabilistic Distributions\n",
        "\n",
        "Let us take a slightly different tac now and ask what is the probability that a city with a mean temperature of 74.7$^{\\circ}$F and a mean acucmulate rainfall of 33.37 inches belongs to one of our three groups. This is $classification$. \n",
        "\n",
        "We could use the same approach as above, calculating lines dividing the 2D space. Instead we will use Multi-variate normal distributions.\n",
        "\n",
        "Firstly let's plot all 3 group's and see where ${\\bf x}_0 =$[74.7$^{\\circ}$F, 33.37in.]$^T$ sits."
      ]
    },
    {
      "cell_type": "code",
      "metadata": {
        "colab": {
          "base_uri": "https://localhost:8080/",
          "height": 390
        },
        "id": "m-XBXWrghUsZ",
        "outputId": "4f1c36cc-43d2-4596-95bb-1a5162740ac6"
      },
      "source": [
        "plt.scatter(x1[0,:],x1[1,:],label = 'Southeastern US')\n",
        "plt.scatter(x2[0,:],x2[1,:],marker = 'x',label = 'Central US')\n",
        "plt.scatter(x3[0,:],x3[1,:],marker = '+',label = 'Northeastern US')\n",
        "plt.plot(74.7,3.37,'*k',label = '$x_0$')\n",
        "plt.legend()\n",
        "plt.xlabel('July Mean Temp. [Far.]')\n",
        "plt.ylabel('July Mean Precip. [Inches]')"
      ],
      "execution_count": null,
      "outputs": [
        {
          "output_type": "execute_result",
          "data": {
            "text/plain": [
              "array([ 0,  1,  2,  3,  4,  5,  6,  7,  8,  9, 10, 11, 12, 13, 14, 15, 16,\n",
              "       17, 18, 19])"
            ]
          },
          "metadata": {},
          "execution_count": 241
        },
        {
          "output_type": "display_data",
          "data": {
            "image/png": "[encoded data removed]",
            "text/plain": [
              "<Figure size 720x360 with 1 Axes>"
            ]
          },
          "metadata": {
            "needs_background": "light"
          }
        }
      ]
    },
    {
      "cell_type": "markdown",
      "metadata": {
        "id": "UkE57pbXCMNu"
      },
      "source": [
        "What we aim to do is model each of the groups as distinct multi-variate goussian distributions. This means the probability distribution function of group $g$ is given by\n",
        "\n",
        "$$f_g(x) \\, \\propto \\, \\frac{1}{\\sqrt{\\det(S_g)}}\\exp\\left[-\\frac{1}{2}({\\bf x_g} - \\overline{\\bf x_g})^T [S_g]^{-1} ({\\bf x_g} - \\overline{\\bf x_g}) \\right].$$ \n",
        "\n",
        "Wilk's uses $S_{pool}$ for all three distributions but I am going to use their own covariance matrices $S_g$. Let's define a grid of temperature ans precipitation anomaly values and map what these distributions look like.\n",
        "\n",
        "\n"
      ]
    },
    {
      "cell_type": "code",
      "metadata": {
        "colab": {
          "base_uri": "https://localhost:8080/",
          "height": 372
        },
        "id": "yMQxdpHPloGN",
        "outputId": "bd8329f4-26c1-4fea-d9e6-7b1f487a98bd"
      },
      "source": [
        "# Define size of grid in each direction\n",
        "tn =20\n",
        "pn =20\n",
        "# Define range of temp. and precip. anomaly values\n",
        "T = np.linspace(-5,5,tn)\n",
        "P = np.linspace(-5,5,pn)\n",
        "# Create 2D arrays \n",
        "Tmesh, Pmesh = np.meshgrid(T, P)\n",
        "# Pre-allocate 3 PDFs \n",
        "f1 = np.zeros_like(Tmesh)\n",
        "f2 = np.zeros_like(Tmesh)\n",
        "f3 = np.zeros_like(Tmesh)\n",
        "# Compute denominator of each PDF \n",
        "S1gnormsqinv = np.sqrt(np.linalg.norm(S1))\n",
        "S2gnormsqinv = np.sqrt(np.linalg.norm(S2))\n",
        "S3gnormsqinv = np.sqrt(np.linalg.norm(S3))\n",
        "# Loop through each point in grid\n",
        "for i in np.arange(0,tn):\n",
        "  for j in np.arange(0,tn):\n",
        "    #Compute Sg^{-1}*(xg - xgmean)\n",
        "    Sx1 = np.matmul(np.linalg.inv(S1),np.array([T[i],P[j]]))\n",
        "    Sx2 = np.matmul(np.linalg.inv(S2),np.array([T[i],P[j]]))\n",
        "    Sx3 = np.matmul(np.linalg.inv(S3),np.array([T[i],P[j]]))\n",
        "    # Compute f\n",
        "    f1[j,i]= np.exp(-0.5*np.dot(np.array([T[i],P[j]]),Sx1))/S1gnormsqinv\n",
        "    f2[j,i]= np.exp(-0.5*np.dot(np.array([T[i],P[j]]),Sx2))/S2gnormsqinv\n",
        "    f3[j,i]= np.exp(-0.5*np.dot(np.array([T[i],P[j]]),Sx3))/S3gnormsqinv\n",
        "\n",
        "# Shift so centred on mean and contour\n",
        "plt.contour(T+x1mean[0],P+x1mean[1],f1,colors='b')\n",
        "plt.contour(T+x2mean[0],P+x2mean[1],f2,colors='r')\n",
        "plt.contour(T+x3mean[0],P+x3mean[1],f3,colors='g')\n",
        "\n",
        "plt.scatter(x1[0,:],x1[1,:],label = 'Southeastern US')\n",
        "plt.scatter(x2[0,:],x2[1,:],marker = 'x',label = 'Central US')\n",
        "plt.scatter(x3[0,:],x3[1,:],marker = '+',label = 'Northeastern US')\n",
        "plt.plot(74.7,3.37,'*k',label = 'Columbus, Ohio')\n",
        "\n",
        "plt.legend()\n",
        "plt.xlabel('July Mean Temp. [Far.]')\n",
        "plt.ylabel('July Mean Precip. [Inches]')\n",
        "plt.axis([68,83,2,7.5])"
      ],
      "execution_count": null,
      "outputs": [
        {
          "output_type": "execute_result",
          "data": {
            "text/plain": [
              "(68.0, 83.0, 2.0, 7.5)"
            ]
          },
          "metadata": {},
          "execution_count": 242
        },
        {
          "output_type": "display_data",
          "data": {
            "image/png": "[encoded data removed]",
            "text/plain": [
              "<Figure size 720x360 with 1 Axes>"
            ]
          },
          "metadata": {
            "needs_background": "light"
          }
        }
      ]
    },
    {
      "cell_type": "markdown",
      "metadata": {
        "id": "CDvZtGCA1TC5"
      },
      "source": [
        "Now we can use Bayes' Theorem to compute the probability that ${\\bf x}_0$ is in each group. That for $G$ groups we have \n",
        "\n",
        "$$ Pr \\{ Group \\, g \\,|\\, {\\bf x}_0 \\} = \\frac{ p_g f_g({\\bf x}_0)}{\\sum_{h=1}^G p_h f_h({\\bf x}_0)}. $$\n",
        "\n",
        "If we assume the probability of being in each group is the same we can eliminate $p_h$. \n",
        "\n",
        "Let's use our MVN models to calculate the probability thet ${\\bf x}_0$ is in each group.\n"
      ]
    },
    {
      "cell_type": "code",
      "metadata": {
        "colab": {
          "base_uri": "https://localhost:8080/"
        },
        "id": "UP0AfeWhynqq",
        "outputId": "d932a143-24c6-46dd-9d8e-01b4d3609740"
      },
      "source": [
        "# Define x0 \n",
        "x0 = np.array([74.7,3.37])\n",
        "# Calculate fg(x0) (or at least something proportional to it)\n",
        "f1x0 = np.exp(-0.5*np.dot(np.array(x0-x1mean),\\\n",
        "      np.matmul(np.linalg.inv(S1),np.array(x0-x1mean))))/S1gnormsqinv\n",
        "f2x0 = np.exp(-0.5*np.dot(np.array(x0-x2mean),\\\n",
        "      np.matmul(np.linalg.inv(S2),np.array(x0-x2mean))))/S2gnormsqinv\n",
        "f3x0 = np.exp(-0.5*np.dot(np.array(x0-x3mean),\\\n",
        "      np.matmul(np.linalg.inv(S3),np.array(x0-x3mean))))/S3gnormsqinv\n",
        "# Now apply Bayes' theorem.\n",
        "Pg1x0 =  f1x0/(f1x0+f2x0+f3x0)\n",
        "Pg2x0 =  f2x0/(f1x0+f2x0+f3x0)\n",
        "Pg3x0 =  f3x0/(f1x0+f2x0+f3x0)\n",
        "print(Pg1x0,Pg2x0,Pg3x0)"
      ],
      "execution_count": null,
      "outputs": [
        {
          "output_type": "stream",
          "name": "stdout",
          "text": [
            "4.3874036692393183e-05 0.1185366917839609 0.8814194341793468\n"
          ]
        }
      ]
    },
    {
      "cell_type": "markdown",
      "metadata": {
        "id": "2GH12l2mGd9J"
      },
      "source": [
        "So the probability of our location being in the South East group is vanishingly small, about 12% for the Central group and 88% for the North East group."
      ]
    },
    {
      "cell_type": "markdown",
      "metadata": {
        "id": "3m1dKhQ5G1-g"
      },
      "source": [
        "# Cluster Analysis\n",
        "\n",
        "Let's take a clean slate and look at the city data again, but now, without any pre-defined groups. Our aim now is to cluster these data point into groups, not according to $a$ $priori$ information such as the region they are from but based on the data itself and a transparent algorithm. This is $Cluster$ $Analysis$."
      ]
    },
    {
      "cell_type": "code",
      "metadata": {
        "colab": {
          "base_uri": "https://localhost:8080/",
          "height": 372
        },
        "id": "IU2-4ltqVLVd",
        "outputId": "1e4d365d-aa27-4a93-be19-6343ae44e0be"
      },
      "source": [
        "xraw = np.array([df1.Temp, df1.Ppt])\n",
        "plt.scatter(xraw[0,:],xraw[1,:],color='k')\n",
        "plt.scatter(xraw[0,15],xraw[1,15],label = 'Springfield')\n",
        "plt.scatter(xraw[0,16],xraw[1,16],label = 'St Louis')\n",
        "plt.legend()\n",
        "plt.xlabel('July Mean Temp. [Far.]')\n",
        "plt.ylabel('July Mean Precip. [Inches]')"
      ],
      "execution_count": null,
      "outputs": [
        {
          "output_type": "execute_result",
          "data": {
            "text/plain": [
              "Text(0, 0.5, 'July Mean Precip. [Inches]')"
            ]
          },
          "metadata": {},
          "execution_count": 245
        },
        {
          "output_type": "display_data",
          "data": {
            "image/png": "[encoded data removed]",
            "text/plain": [
              "<Figure size 720x360 with 1 Axes>"
            ]
          },
          "metadata": {
            "needs_background": "light"
          }
        }
      ]
    },
    {
      "cell_type": "markdown",
      "metadata": {
        "id": "lQj-ZZQVHxiJ"
      },
      "source": [
        "One's eye and mind are likely tempted to pick up all sorts of features and patterns in these data. But one thing is clear, some data points are closer than others.\n",
        "\n",
        "I have specifically highlighted Springfield and St Louis. These two are extremely close together. \n",
        "\n",
        "But before we jump to any conclusions we should consider what 'close' really means. Firstly we should normalise our data so that each variable has zero mean and a standard deviation of 1."
      ]
    },
    {
      "cell_type": "code",
      "metadata": {
        "colab": {
          "base_uri": "https://localhost:8080/",
          "height": 375
        },
        "id": "XGSKa3xZJI8S",
        "outputId": "2ba80efa-7391-46f3-b8f2-e164ee04c9fc"
      },
      "source": [
        "x = np.array([(df1.Temp-df1.Temp.mean())/df1.Temp.std(), (df1.Ppt-df1.Ppt.mean())/df1.Ppt.std()])\n",
        "plt.scatter(x[0,:],x[1,:],color='k')\n",
        "plt.scatter(x[0,15],x[1,15],label = 'Springfield')\n",
        "plt.scatter(x[0,16],x[1,16],label = 'St Louis')\n",
        "plt.legend()\n",
        "plt.xlabel('Normalised Temp.')\n",
        "plt.ylabel('Normalised Precip.')"
      ],
      "execution_count": null,
      "outputs": [
        {
          "output_type": "execute_result",
          "data": {
            "text/plain": [
              "Text(0, 0.5, 'Normalised Precip.')"
            ]
          },
          "metadata": {},
          "execution_count": 251
        },
        {
          "output_type": "display_data",
          "data": {
            "image/png": "[encoded data removed]",
            "text/plain": [
              "<Figure size 720x360 with 1 Axes>"
            ]
          },
          "metadata": {
            "needs_background": "light"
          }
        }
      ]
    },
    {
      "cell_type": "markdown",
      "metadata": {
        "id": "Sq0_Cy7PJtZE"
      },
      "source": [
        "Okay it looks the same. Now given this space, let's compute a distance matrix $d_{i,j}$ such that\n",
        "\n",
        "$$ d_{i,j} = \\left[\\sum_{k=1}^K(x_{i,k}-x_{j,k})^2\\right]^{1/2}$$\n",
        "\n",
        "where K is the number of dimensions and i and j are the different data points."
      ]
    },
    {
      "cell_type": "code",
      "metadata": {
        "colab": {
          "base_uri": "https://localhost:8080/",
          "height": 358
        },
        "id": "Y0mBOMhSGUYZ",
        "outputId": "d37168eb-76d3-4beb-aa26-79781a835586"
      },
      "source": [
        "# Number of data points\n",
        "N=x.shape[1]\n",
        "# Pre-allocate matrix\n",
        "d2 = np.zeros([N,N])+np.nan\n",
        "# Loop through each pair neglecting one side of the diagonal\n",
        "for i in np.arange(N):\n",
        "    for j in np.arange(i):\n",
        "       d2[i,j] = np.linalg.norm(x[:,i]-x[:,j])\n",
        "# Find the index of the closest pair     \n",
        "close_ind = np.where(d2 == np.nanmin(d2))\n",
        "plt.pcolor(np.sqrt(d2))\n",
        "plt.plot(close_ind[1]+0.5,close_ind[0]+0.5,'*w')\n",
        "plt.colorbar()"
      ],
      "execution_count": null,
      "outputs": [
        {
          "output_type": "execute_result",
          "data": {
            "text/plain": [
              "<matplotlib.colorbar.Colorbar at 0x7fbb734b8350>"
            ]
          },
          "metadata": {},
          "execution_count": 252
        },
        {
          "output_type": "display_data",
          "data": {
            "image/png": "[encoded data removed]",
            "text/plain": [
              "<Figure size 720x360 with 2 Axes>"
            ]
          },
          "metadata": {
            "needs_background": "light"
          }
        }
      ]
    },
    {
      "cell_type": "markdown",
      "metadata": {
        "id": "bJrdOnvfLbaK"
      },
      "source": [
        "Here a distance of 1 means the data points are 1 standard deviation apart. \n",
        "\n",
        "We have also shown the smallest distance (St Louis and Springfield) and the graph.\n",
        "\n",
        "Now let's do heirarchical clustering. We aglomerate the closest two. Then define those as a new data point and look for the next nearest. And so on. Here is an algorithm using the 'Centroid' Method. I.e. where groups are linked accroding to the smallest distance between centroids\n",
        "\n",
        "$$ d_{G_1,G_2} = || \\overline{\\bf x}_{G_1} - \\overline{\\bf x}_{G_2} ||.$$"
      ]
    },
    {
      "cell_type": "code",
      "metadata": {
        "colab": {
          "base_uri": "https://localhost:8080/",
          "height": 416
        },
        "id": "YB5zh3m-WR3e",
        "outputId": "1689cb15-8ea2-4fe8-f634-de04b8e896cb"
      },
      "source": [
        "whichgroup = np.tile(np.arange(0,N),(N,1))\n",
        "d2 = np.zeros([N,N])+np.nan\n",
        "diststep = np.zeros([N,1])\n",
        "\n",
        "for k in np.arange(1,N):\n",
        "  d2 = np.zeros([N,N])+np.nan\n",
        "  for i in np.unique(whichgroup[k-1,:]):     \n",
        "      for j in np.unique(whichgroup[k-1,whichgroup[k-1,:]<(i)]):\n",
        "          igroup = np.mean(x[:,whichgroup[k,:]==i],axis = 1)\n",
        "          jgroup = np.mean(x[:,whichgroup[k,:]==j],axis = 1)\n",
        "          d2[i,j] = np.linalg.norm(igroup-jgroup)\n",
        "  diststep[k]=np.nanmin(d2)\n",
        "  close_ind = np.where(d2 == diststep[k])     \n",
        "  whichgroup[k,:]=whichgroup[k-1,:]\n",
        "  whichgroup[k,whichgroup[k-1,:]==close_ind[0]]=whichgroup[k-1,close_ind[1]]\n",
        "\n",
        "plt.rcParams['figure.figsize'] = [10, 5]\n",
        "\n",
        "plt.subplot(1,2,1)\n",
        "plt.plot(whichgroup,np.cumsum(diststep))\n",
        "plt.xticks(np.arange(0,N),df1.Station,rotation=90)\n",
        "plt.ylabel('Accumulated Distance of Merging')\n",
        "\n",
        "plt.subplot(1,2,2)\n",
        "plt.plot(diststep)\n",
        "plt.ylabel('Minimum Karl Pearson Distance Between Centroids')\n",
        "plt.xlabel('Stage Number')\n",
        "plt.grid()\n"
      ],
      "execution_count": null,
      "outputs": [
        {
          "output_type": "display_data",
          "data": {
            "image/png": "[encoded data removed]",
            "text/plain": [
              "<Figure size 720x360 with 2 Axes>"
            ]
          },
          "metadata": {
            "needs_background": "light"
          }
        }
      ]
    },
    {
      "cell_type": "markdown",
      "metadata": {
        "id": "3cB6MN2xMr9p"
      },
      "source": [
        "As you can see we can plot a kind of 'Dendrogram' (need a propoer code to do something better).\n",
        "\n",
        "Below we can choose a stage in the algorithm and see what clusters have emerged."
      ]
    },
    {
      "cell_type": "code",
      "metadata": {
        "colab": {
          "base_uri": "https://localhost:8080/",
          "height": 375
        },
        "id": "3RcsoWumtULm",
        "outputId": "db481b29-2b54-449b-eb24-0dae0c87325e"
      },
      "source": [
        "stage = 24\n",
        "count=1\n",
        "for i in np.unique(whichgroup[stage,:]):\n",
        "  plt.scatter(x[0,whichgroup[stage,:]==i],x[1,whichgroup[stage,:]==i],\\\n",
        "              label='Group '+np.str(count))\n",
        "  count=count+1\n",
        "plt.legend()\n",
        "plt.ylabel('Minimum Karl Pearson Distance Between Centroids')\n",
        "plt.xlabel('Stage Number')"
      ],
      "execution_count": null,
      "outputs": [
        {
          "output_type": "execute_result",
          "data": {
            "text/plain": [
              "Text(0.5, 0, 'Stage Number')"
            ]
          },
          "metadata": {},
          "execution_count": 254
        },
        {
          "output_type": "display_data",
          "data": {
            "image/png": "[encoded data removed]",
            "text/plain": [
              "<Figure size 720x360 with 1 Axes>"
            ]
          },
          "metadata": {
            "needs_background": "light"
          }
        }
      ]
    },
    {
      "cell_type": "markdown",
      "metadata": {
        "id": "eRUk8d37HNr6"
      },
      "source": [
        "## 5. Excercises\n",
        "\n",
        "Here is a data set used in http://www.sciencedirect.com/science/article/pii/S026974910800033X\n",
        "\n",
        "Let's explore it and see if we can do some interesting clasification and clustering with it!"
      ]
    },
    {
      "cell_type": "code",
      "metadata": {
        "colab": {
          "base_uri": "https://localhost:8080/",
          "height": 1000
        },
        "id": "WJo0rfbB1dhq",
        "outputId": "8bd847f8-505e-4ae6-b782-f2b00120dae1"
      },
      "source": [
        "HM_url ='http://environmentalcomputing.net/wp-content/uploads/2016/05/Harbour_metals.csv' #the data set as a Pandas Dataframe using the 'read_csv' function\n",
        "dfhm = pd.read_csv(HM_url)\n",
        "dfhm"
      ],
      "execution_count": null,
      "outputs": [
        {
          "output_type": "execute_result",
          "data": {
            "text/html": [
              "<div>\n",
              "<style scoped>\n",
              "    .dataframe tbody tr th:only-of-type {\n",
              "        vertical-align: middle;\n",
              "    }\n",
              "\n",
              "    .dataframe tbody tr th {\n",
              "        vertical-align: top;\n",
              "    }\n",
              "\n",
              "    .dataframe thead th {\n",
              "        text-align: right;\n",
              "    }\n",
              "</style>\n",
              "<table border=\"1\" class=\"dataframe\">\n",
              "  <thead>\n",
              "    <tr style=\"text-align: right;\">\n",
              "      <th></th>\n",
              "      <th>Location</th>\n",
              "      <th>Species</th>\n",
              "      <th>Rep</th>\n",
              "      <th>Cd</th>\n",
              "      <th>Cr</th>\n",
              "      <th>Cu</th>\n",
              "      <th>Mn</th>\n",
              "      <th>Ni</th>\n",
              "      <th>Pb</th>\n",
              "      <th>Zn</th>\n",
              "    </tr>\n",
              "  </thead>\n",
              "  <tbody>\n",
              "    <tr>\n",
              "      <th>0</th>\n",
              "      <td>Balls Head</td>\n",
              "      <td>Padina</td>\n",
              "      <td>P.13</td>\n",
              "      <td>0.67</td>\n",
              "      <td>3.82</td>\n",
              "      <td>68.92</td>\n",
              "      <td>106.94</td>\n",
              "      <td>1.52</td>\n",
              "      <td>32.62</td>\n",
              "      <td>96.52</td>\n",
              "    </tr>\n",
              "    <tr>\n",
              "      <th>1</th>\n",
              "      <td>Balls Head</td>\n",
              "      <td>Padina</td>\n",
              "      <td>P.14</td>\n",
              "      <td>0.50</td>\n",
              "      <td>5.84</td>\n",
              "      <td>93.50</td>\n",
              "      <td>81.98</td>\n",
              "      <td>2.74</td>\n",
              "      <td>28.77</td>\n",
              "      <td>134.64</td>\n",
              "    </tr>\n",
              "    <tr>\n",
              "      <th>2</th>\n",
              "      <td>Balls Head</td>\n",
              "      <td>Padina</td>\n",
              "      <td>P.15</td>\n",
              "      <td>0.66</td>\n",
              "      <td>9.04</td>\n",
              "      <td>116.02</td>\n",
              "      <td>124.26</td>\n",
              "      <td>3.17</td>\n",
              "      <td>62.13</td>\n",
              "      <td>150.57</td>\n",
              "    </tr>\n",
              "    <tr>\n",
              "      <th>3</th>\n",
              "      <td>Balls Head</td>\n",
              "      <td>Padina</td>\n",
              "      <td>P.16</td>\n",
              "      <td>0.89</td>\n",
              "      <td>4.93</td>\n",
              "      <td>110.55</td>\n",
              "      <td>155.92</td>\n",
              "      <td>2.43</td>\n",
              "      <td>52.46</td>\n",
              "      <td>113.51</td>\n",
              "    </tr>\n",
              "    <tr>\n",
              "      <th>4</th>\n",
              "      <td>Balls Head</td>\n",
              "      <td>Padina</td>\n",
              "      <td>P.17</td>\n",
              "      <td>0.86</td>\n",
              "      <td>4.35</td>\n",
              "      <td>117.36</td>\n",
              "      <td>160.90</td>\n",
              "      <td>1.62</td>\n",
              "      <td>47.75</td>\n",
              "      <td>126.34</td>\n",
              "    </tr>\n",
              "    <tr>\n",
              "      <th>5</th>\n",
              "      <td>Balls Head</td>\n",
              "      <td>Padina</td>\n",
              "      <td>P.18</td>\n",
              "      <td>0.78</td>\n",
              "      <td>8.68</td>\n",
              "      <td>109.80</td>\n",
              "      <td>166.70</td>\n",
              "      <td>4.16</td>\n",
              "      <td>71.59</td>\n",
              "      <td>130.13</td>\n",
              "    </tr>\n",
              "    <tr>\n",
              "      <th>6</th>\n",
              "      <td>Balls Head</td>\n",
              "      <td>Sargassum</td>\n",
              "      <td>S.13</td>\n",
              "      <td>0.54</td>\n",
              "      <td>4.60</td>\n",
              "      <td>23.14</td>\n",
              "      <td>15.20</td>\n",
              "      <td>1.60</td>\n",
              "      <td>142.26</td>\n",
              "      <td>142.26</td>\n",
              "    </tr>\n",
              "    <tr>\n",
              "      <th>7</th>\n",
              "      <td>Balls Head</td>\n",
              "      <td>Sargassum</td>\n",
              "      <td>S.14</td>\n",
              "      <td>2.34</td>\n",
              "      <td>8.96</td>\n",
              "      <td>59.15</td>\n",
              "      <td>109.05</td>\n",
              "      <td>1.67</td>\n",
              "      <td>220.29</td>\n",
              "      <td>220.29</td>\n",
              "    </tr>\n",
              "    <tr>\n",
              "      <th>8</th>\n",
              "      <td>Balls Head</td>\n",
              "      <td>Sargassum</td>\n",
              "      <td>S.15</td>\n",
              "      <td>2.24</td>\n",
              "      <td>6.81</td>\n",
              "      <td>63.57</td>\n",
              "      <td>85.52</td>\n",
              "      <td>2.50</td>\n",
              "      <td>197.29</td>\n",
              "      <td>197.29</td>\n",
              "    </tr>\n",
              "    <tr>\n",
              "      <th>9</th>\n",
              "      <td>Balls Head</td>\n",
              "      <td>Sargassum</td>\n",
              "      <td>S.16</td>\n",
              "      <td>1.56</td>\n",
              "      <td>9.10</td>\n",
              "      <td>48.56</td>\n",
              "      <td>67.08</td>\n",
              "      <td>1.93</td>\n",
              "      <td>153.52</td>\n",
              "      <td>153.52</td>\n",
              "    </tr>\n",
              "    <tr>\n",
              "      <th>10</th>\n",
              "      <td>Balls Head</td>\n",
              "      <td>Sargassum</td>\n",
              "      <td>S.17</td>\n",
              "      <td>1.13</td>\n",
              "      <td>10.12</td>\n",
              "      <td>47.60</td>\n",
              "      <td>113.23</td>\n",
              "      <td>4.33</td>\n",
              "      <td>198.70</td>\n",
              "      <td>198.70</td>\n",
              "    </tr>\n",
              "    <tr>\n",
              "      <th>11</th>\n",
              "      <td>Balls Head</td>\n",
              "      <td>Sargassum</td>\n",
              "      <td>S.18</td>\n",
              "      <td>2.02</td>\n",
              "      <td>8.71</td>\n",
              "      <td>39.26</td>\n",
              "      <td>95.31</td>\n",
              "      <td>3.91</td>\n",
              "      <td>218.22</td>\n",
              "      <td>218.22</td>\n",
              "    </tr>\n",
              "    <tr>\n",
              "      <th>12</th>\n",
              "      <td>Berrys Bay</td>\n",
              "      <td>Padina</td>\n",
              "      <td>P.31</td>\n",
              "      <td>0.63</td>\n",
              "      <td>4.75</td>\n",
              "      <td>91.68</td>\n",
              "      <td>76.55</td>\n",
              "      <td>2.02</td>\n",
              "      <td>24.57</td>\n",
              "      <td>110.57</td>\n",
              "    </tr>\n",
              "    <tr>\n",
              "      <th>13</th>\n",
              "      <td>Berrys Bay</td>\n",
              "      <td>Padina</td>\n",
              "      <td>P.32</td>\n",
              "      <td>1.09</td>\n",
              "      <td>4.59</td>\n",
              "      <td>86.77</td>\n",
              "      <td>45.16</td>\n",
              "      <td>1.45</td>\n",
              "      <td>32.05</td>\n",
              "      <td>110.22</td>\n",
              "    </tr>\n",
              "    <tr>\n",
              "      <th>14</th>\n",
              "      <td>Berrys Bay</td>\n",
              "      <td>Padina</td>\n",
              "      <td>P.33</td>\n",
              "      <td>0.55</td>\n",
              "      <td>4.59</td>\n",
              "      <td>144.39</td>\n",
              "      <td>146.54</td>\n",
              "      <td>3.05</td>\n",
              "      <td>46.38</td>\n",
              "      <td>140.82</td>\n",
              "    </tr>\n",
              "    <tr>\n",
              "      <th>15</th>\n",
              "      <td>Berrys Bay</td>\n",
              "      <td>Padina</td>\n",
              "      <td>P.34</td>\n",
              "      <td>0.59</td>\n",
              "      <td>6.25</td>\n",
              "      <td>81.66</td>\n",
              "      <td>67.75</td>\n",
              "      <td>2.35</td>\n",
              "      <td>33.35</td>\n",
              "      <td>124.16</td>\n",
              "    </tr>\n",
              "    <tr>\n",
              "      <th>16</th>\n",
              "      <td>Berrys Bay</td>\n",
              "      <td>Padina</td>\n",
              "      <td>P.35</td>\n",
              "      <td>1.13</td>\n",
              "      <td>4.27</td>\n",
              "      <td>76.01</td>\n",
              "      <td>38.19</td>\n",
              "      <td>2.74</td>\n",
              "      <td>22.80</td>\n",
              "      <td>102.17</td>\n",
              "    </tr>\n",
              "    <tr>\n",
              "      <th>17</th>\n",
              "      <td>Berrys Bay</td>\n",
              "      <td>Padina</td>\n",
              "      <td>P.36</td>\n",
              "      <td>0.47</td>\n",
              "      <td>4.13</td>\n",
              "      <td>136.58</td>\n",
              "      <td>111.92</td>\n",
              "      <td>1.04</td>\n",
              "      <td>41.19</td>\n",
              "      <td>136.84</td>\n",
              "    </tr>\n",
              "    <tr>\n",
              "      <th>18</th>\n",
              "      <td>Berrys Bay</td>\n",
              "      <td>Sargassum</td>\n",
              "      <td>S.31</td>\n",
              "      <td>1.31</td>\n",
              "      <td>2.56</td>\n",
              "      <td>16.27</td>\n",
              "      <td>12.07</td>\n",
              "      <td>4.04</td>\n",
              "      <td>62.84</td>\n",
              "      <td>62.84</td>\n",
              "    </tr>\n",
              "    <tr>\n",
              "      <th>19</th>\n",
              "      <td>Berrys Bay</td>\n",
              "      <td>Sargassum</td>\n",
              "      <td>S.32</td>\n",
              "      <td>1.61</td>\n",
              "      <td>3.78</td>\n",
              "      <td>25.79</td>\n",
              "      <td>17.29</td>\n",
              "      <td>3.46</td>\n",
              "      <td>154.74</td>\n",
              "      <td>154.74</td>\n",
              "    </tr>\n",
              "    <tr>\n",
              "      <th>20</th>\n",
              "      <td>Berrys Bay</td>\n",
              "      <td>Sargassum</td>\n",
              "      <td>S.33</td>\n",
              "      <td>1.20</td>\n",
              "      <td>3.87</td>\n",
              "      <td>19.26</td>\n",
              "      <td>9.73</td>\n",
              "      <td>8.77</td>\n",
              "      <td>88.61</td>\n",
              "      <td>88.61</td>\n",
              "    </tr>\n",
              "    <tr>\n",
              "      <th>21</th>\n",
              "      <td>Berrys Bay</td>\n",
              "      <td>Sargassum</td>\n",
              "      <td>S.34</td>\n",
              "      <td>2.14</td>\n",
              "      <td>3.80</td>\n",
              "      <td>18.14</td>\n",
              "      <td>24.97</td>\n",
              "      <td>1.35</td>\n",
              "      <td>100.76</td>\n",
              "      <td>100.76</td>\n",
              "    </tr>\n",
              "    <tr>\n",
              "      <th>22</th>\n",
              "      <td>Berrys Bay</td>\n",
              "      <td>Sargassum</td>\n",
              "      <td>S.35</td>\n",
              "      <td>1.29</td>\n",
              "      <td>1.98</td>\n",
              "      <td>20.94</td>\n",
              "      <td>12.96</td>\n",
              "      <td>2.10</td>\n",
              "      <td>70.54</td>\n",
              "      <td>70.54</td>\n",
              "    </tr>\n",
              "    <tr>\n",
              "      <th>23</th>\n",
              "      <td>Berrys Bay</td>\n",
              "      <td>Sargassum</td>\n",
              "      <td>S.36</td>\n",
              "      <td>1.01</td>\n",
              "      <td>5.89</td>\n",
              "      <td>16.56</td>\n",
              "      <td>23.87</td>\n",
              "      <td>-0.67</td>\n",
              "      <td>96.96</td>\n",
              "      <td>96.96</td>\n",
              "    </tr>\n",
              "    <tr>\n",
              "      <th>24</th>\n",
              "      <td>Felix Bay</td>\n",
              "      <td>Padina</td>\n",
              "      <td>P.55</td>\n",
              "      <td>0.44</td>\n",
              "      <td>5.01</td>\n",
              "      <td>43.41</td>\n",
              "      <td>33.16</td>\n",
              "      <td>2.13</td>\n",
              "      <td>23.32</td>\n",
              "      <td>76.06</td>\n",
              "    </tr>\n",
              "    <tr>\n",
              "      <th>25</th>\n",
              "      <td>Felix Bay</td>\n",
              "      <td>Padina</td>\n",
              "      <td>P.56</td>\n",
              "      <td>1.14</td>\n",
              "      <td>4.83</td>\n",
              "      <td>39.54</td>\n",
              "      <td>29.26</td>\n",
              "      <td>0.98</td>\n",
              "      <td>21.17</td>\n",
              "      <td>68.70</td>\n",
              "    </tr>\n",
              "    <tr>\n",
              "      <th>26</th>\n",
              "      <td>Felix Bay</td>\n",
              "      <td>Padina</td>\n",
              "      <td>P.57</td>\n",
              "      <td>0.85</td>\n",
              "      <td>8.00</td>\n",
              "      <td>57.00</td>\n",
              "      <td>48.85</td>\n",
              "      <td>2.84</td>\n",
              "      <td>42.69</td>\n",
              "      <td>85.13</td>\n",
              "    </tr>\n",
              "    <tr>\n",
              "      <th>27</th>\n",
              "      <td>Felix Bay</td>\n",
              "      <td>Padina</td>\n",
              "      <td>P.58</td>\n",
              "      <td>0.92</td>\n",
              "      <td>11.08</td>\n",
              "      <td>32.95</td>\n",
              "      <td>75.81</td>\n",
              "      <td>4.20</td>\n",
              "      <td>47.80</td>\n",
              "      <td>243.01</td>\n",
              "    </tr>\n",
              "    <tr>\n",
              "      <th>28</th>\n",
              "      <td>Felix Bay</td>\n",
              "      <td>Padina</td>\n",
              "      <td>P.59</td>\n",
              "      <td>0.75</td>\n",
              "      <td>2.82</td>\n",
              "      <td>70.72</td>\n",
              "      <td>25.50</td>\n",
              "      <td>0.63</td>\n",
              "      <td>24.66</td>\n",
              "      <td>79.51</td>\n",
              "    </tr>\n",
              "    <tr>\n",
              "      <th>29</th>\n",
              "      <td>Felix Bay</td>\n",
              "      <td>Padina</td>\n",
              "      <td>P.60</td>\n",
              "      <td>0.39</td>\n",
              "      <td>6.80</td>\n",
              "      <td>57.19</td>\n",
              "      <td>46.11</td>\n",
              "      <td>2.48</td>\n",
              "      <td>111.22</td>\n",
              "      <td>91.45</td>\n",
              "    </tr>\n",
              "    <tr>\n",
              "      <th>30</th>\n",
              "      <td>Felix Bay</td>\n",
              "      <td>Sargassum</td>\n",
              "      <td>S.55</td>\n",
              "      <td>1.76</td>\n",
              "      <td>3.10</td>\n",
              "      <td>21.37</td>\n",
              "      <td>19.61</td>\n",
              "      <td>2.41</td>\n",
              "      <td>102.06</td>\n",
              "      <td>102.06</td>\n",
              "    </tr>\n",
              "    <tr>\n",
              "      <th>31</th>\n",
              "      <td>Felix Bay</td>\n",
              "      <td>Sargassum</td>\n",
              "      <td>S.56</td>\n",
              "      <td>2.16</td>\n",
              "      <td>1.64</td>\n",
              "      <td>13.35</td>\n",
              "      <td>11.44</td>\n",
              "      <td>0.57</td>\n",
              "      <td>53.16</td>\n",
              "      <td>53.16</td>\n",
              "    </tr>\n",
              "    <tr>\n",
              "      <th>32</th>\n",
              "      <td>Felix Bay</td>\n",
              "      <td>Sargassum</td>\n",
              "      <td>S.57</td>\n",
              "      <td>1.63</td>\n",
              "      <td>1.08</td>\n",
              "      <td>9.51</td>\n",
              "      <td>7.66</td>\n",
              "      <td>0.53</td>\n",
              "      <td>40.21</td>\n",
              "      <td>40.21</td>\n",
              "    </tr>\n",
              "    <tr>\n",
              "      <th>33</th>\n",
              "      <td>Felix Bay</td>\n",
              "      <td>Sargassum</td>\n",
              "      <td>S.58</td>\n",
              "      <td>2.25</td>\n",
              "      <td>1.18</td>\n",
              "      <td>11.00</td>\n",
              "      <td>8.49</td>\n",
              "      <td>1.76</td>\n",
              "      <td>45.46</td>\n",
              "      <td>45.46</td>\n",
              "    </tr>\n",
              "    <tr>\n",
              "      <th>34</th>\n",
              "      <td>Felix Bay</td>\n",
              "      <td>Sargassum</td>\n",
              "      <td>S.59</td>\n",
              "      <td>1.92</td>\n",
              "      <td>3.26</td>\n",
              "      <td>14.97</td>\n",
              "      <td>13.19</td>\n",
              "      <td>1.47</td>\n",
              "      <td>97.76</td>\n",
              "      <td>97.76</td>\n",
              "    </tr>\n",
              "    <tr>\n",
              "      <th>35</th>\n",
              "      <td>Felix Bay</td>\n",
              "      <td>Sargassum</td>\n",
              "      <td>S.60</td>\n",
              "      <td>2.43</td>\n",
              "      <td>1.63</td>\n",
              "      <td>14.23</td>\n",
              "      <td>9.12</td>\n",
              "      <td>0.35</td>\n",
              "      <td>58.08</td>\n",
              "      <td>58.08</td>\n",
              "    </tr>\n",
              "    <tr>\n",
              "      <th>36</th>\n",
              "      <td>Hermit Point</td>\n",
              "      <td>Padina</td>\n",
              "      <td>P.49</td>\n",
              "      <td>0.70</td>\n",
              "      <td>8.97</td>\n",
              "      <td>107.80</td>\n",
              "      <td>104.83</td>\n",
              "      <td>2.85</td>\n",
              "      <td>42.11</td>\n",
              "      <td>100.75</td>\n",
              "    </tr>\n",
              "    <tr>\n",
              "      <th>37</th>\n",
              "      <td>Hermit Point</td>\n",
              "      <td>Padina</td>\n",
              "      <td>P.50</td>\n",
              "      <td>0.59</td>\n",
              "      <td>3.21</td>\n",
              "      <td>35.82</td>\n",
              "      <td>36.39</td>\n",
              "      <td>1.57</td>\n",
              "      <td>26.30</td>\n",
              "      <td>70.77</td>\n",
              "    </tr>\n",
              "    <tr>\n",
              "      <th>38</th>\n",
              "      <td>Hermit Point</td>\n",
              "      <td>Padina</td>\n",
              "      <td>P.51</td>\n",
              "      <td>0.62</td>\n",
              "      <td>3.81</td>\n",
              "      <td>81.20</td>\n",
              "      <td>50.17</td>\n",
              "      <td>2.60</td>\n",
              "      <td>16.59</td>\n",
              "      <td>89.78</td>\n",
              "    </tr>\n",
              "    <tr>\n",
              "      <th>39</th>\n",
              "      <td>Hermit Point</td>\n",
              "      <td>Padina</td>\n",
              "      <td>P.52</td>\n",
              "      <td>0.86</td>\n",
              "      <td>2.59</td>\n",
              "      <td>60.41</td>\n",
              "      <td>25.08</td>\n",
              "      <td>2.12</td>\n",
              "      <td>26.24</td>\n",
              "      <td>82.52</td>\n",
              "    </tr>\n",
              "    <tr>\n",
              "      <th>40</th>\n",
              "      <td>Hermit Point</td>\n",
              "      <td>Padina</td>\n",
              "      <td>P.53</td>\n",
              "      <td>0.53</td>\n",
              "      <td>3.98</td>\n",
              "      <td>79.93</td>\n",
              "      <td>33.97</td>\n",
              "      <td>2.52</td>\n",
              "      <td>19.33</td>\n",
              "      <td>94.37</td>\n",
              "    </tr>\n",
              "    <tr>\n",
              "      <th>41</th>\n",
              "      <td>Hermit Point</td>\n",
              "      <td>Padina</td>\n",
              "      <td>P.54</td>\n",
              "      <td>0.88</td>\n",
              "      <td>2.92</td>\n",
              "      <td>98.75</td>\n",
              "      <td>38.66</td>\n",
              "      <td>2.09</td>\n",
              "      <td>21.79</td>\n",
              "      <td>84.64</td>\n",
              "    </tr>\n",
              "    <tr>\n",
              "      <th>42</th>\n",
              "      <td>Hermit Point</td>\n",
              "      <td>Sargassum</td>\n",
              "      <td>S.49</td>\n",
              "      <td>1.20</td>\n",
              "      <td>5.50</td>\n",
              "      <td>43.47</td>\n",
              "      <td>31.64</td>\n",
              "      <td>2.21</td>\n",
              "      <td>133.87</td>\n",
              "      <td>133.87</td>\n",
              "    </tr>\n",
              "    <tr>\n",
              "      <th>43</th>\n",
              "      <td>Hermit Point</td>\n",
              "      <td>Sargassum</td>\n",
              "      <td>S.50</td>\n",
              "      <td>1.52</td>\n",
              "      <td>5.56</td>\n",
              "      <td>26.70</td>\n",
              "      <td>43.66</td>\n",
              "      <td>2.68</td>\n",
              "      <td>118.30</td>\n",
              "      <td>118.30</td>\n",
              "    </tr>\n",
              "    <tr>\n",
              "      <th>44</th>\n",
              "      <td>Hermit Point</td>\n",
              "      <td>Sargassum</td>\n",
              "      <td>S.51</td>\n",
              "      <td>2.47</td>\n",
              "      <td>8.83</td>\n",
              "      <td>27.56</td>\n",
              "      <td>46.85</td>\n",
              "      <td>3.81</td>\n",
              "      <td>143.08</td>\n",
              "      <td>143.08</td>\n",
              "    </tr>\n",
              "    <tr>\n",
              "      <th>45</th>\n",
              "      <td>Hermit Point</td>\n",
              "      <td>Sargassum</td>\n",
              "      <td>S.52</td>\n",
              "      <td>2.56</td>\n",
              "      <td>2.43</td>\n",
              "      <td>16.14</td>\n",
              "      <td>16.11</td>\n",
              "      <td>0.28</td>\n",
              "      <td>72.00</td>\n",
              "      <td>72.00</td>\n",
              "    </tr>\n",
              "    <tr>\n",
              "      <th>46</th>\n",
              "      <td>Hermit Point</td>\n",
              "      <td>Sargassum</td>\n",
              "      <td>S.53</td>\n",
              "      <td>1.69</td>\n",
              "      <td>8.06</td>\n",
              "      <td>17.62</td>\n",
              "      <td>17.57</td>\n",
              "      <td>1.76</td>\n",
              "      <td>77.94</td>\n",
              "      <td>77.94</td>\n",
              "    </tr>\n",
              "    <tr>\n",
              "      <th>47</th>\n",
              "      <td>Hermit Point</td>\n",
              "      <td>Sargassum</td>\n",
              "      <td>S.54</td>\n",
              "      <td>2.00</td>\n",
              "      <td>3.20</td>\n",
              "      <td>20.79</td>\n",
              "      <td>15.77</td>\n",
              "      <td>1.15</td>\n",
              "      <td>78.20</td>\n",
              "      <td>78.20</td>\n",
              "    </tr>\n",
              "    <tr>\n",
              "      <th>48</th>\n",
              "      <td>Neutral Bay</td>\n",
              "      <td>Padina</td>\n",
              "      <td>P.37</td>\n",
              "      <td>0.73</td>\n",
              "      <td>9.33</td>\n",
              "      <td>91.49</td>\n",
              "      <td>57.92</td>\n",
              "      <td>2.77</td>\n",
              "      <td>60.19</td>\n",
              "      <td>127.27</td>\n",
              "    </tr>\n",
              "    <tr>\n",
              "      <th>49</th>\n",
              "      <td>Neutral Bay</td>\n",
              "      <td>Padina</td>\n",
              "      <td>P.38</td>\n",
              "      <td>0.71</td>\n",
              "      <td>4.60</td>\n",
              "      <td>132.32</td>\n",
              "      <td>80.96</td>\n",
              "      <td>0.81</td>\n",
              "      <td>45.26</td>\n",
              "      <td>111.04</td>\n",
              "    </tr>\n",
              "    <tr>\n",
              "      <th>50</th>\n",
              "      <td>Neutral Bay</td>\n",
              "      <td>Padina</td>\n",
              "      <td>P.39</td>\n",
              "      <td>0.77</td>\n",
              "      <td>5.52</td>\n",
              "      <td>181.65</td>\n",
              "      <td>123.57</td>\n",
              "      <td>1.29</td>\n",
              "      <td>60.05</td>\n",
              "      <td>136.97</td>\n",
              "    </tr>\n",
              "    <tr>\n",
              "      <th>51</th>\n",
              "      <td>Neutral Bay</td>\n",
              "      <td>Padina</td>\n",
              "      <td>P.40</td>\n",
              "      <td>0.87</td>\n",
              "      <td>3.11</td>\n",
              "      <td>98.64</td>\n",
              "      <td>56.05</td>\n",
              "      <td>1.38</td>\n",
              "      <td>26.49</td>\n",
              "      <td>95.67</td>\n",
              "    </tr>\n",
              "    <tr>\n",
              "      <th>52</th>\n",
              "      <td>Neutral Bay</td>\n",
              "      <td>Padina</td>\n",
              "      <td>P.41</td>\n",
              "      <td>1.57</td>\n",
              "      <td>10.49</td>\n",
              "      <td>114.43</td>\n",
              "      <td>87.22</td>\n",
              "      <td>2.62</td>\n",
              "      <td>88.54</td>\n",
              "      <td>140.83</td>\n",
              "    </tr>\n",
              "    <tr>\n",
              "      <th>53</th>\n",
              "      <td>Neutral Bay</td>\n",
              "      <td>Padina</td>\n",
              "      <td>P.42</td>\n",
              "      <td>0.91</td>\n",
              "      <td>2.10</td>\n",
              "      <td>86.28</td>\n",
              "      <td>68.79</td>\n",
              "      <td>0.87</td>\n",
              "      <td>38.40</td>\n",
              "      <td>88.15</td>\n",
              "    </tr>\n",
              "    <tr>\n",
              "      <th>54</th>\n",
              "      <td>Neutral Bay</td>\n",
              "      <td>Sargassum</td>\n",
              "      <td>S.37</td>\n",
              "      <td>2.34</td>\n",
              "      <td>8.80</td>\n",
              "      <td>35.43</td>\n",
              "      <td>80.98</td>\n",
              "      <td>2.93</td>\n",
              "      <td>175.36</td>\n",
              "      <td>175.36</td>\n",
              "    </tr>\n",
              "    <tr>\n",
              "      <th>55</th>\n",
              "      <td>Neutral Bay</td>\n",
              "      <td>Sargassum</td>\n",
              "      <td>S.38</td>\n",
              "      <td>0.15</td>\n",
              "      <td>1.49</td>\n",
              "      <td>16.55</td>\n",
              "      <td>7.56</td>\n",
              "      <td>-0.21</td>\n",
              "      <td>71.00</td>\n",
              "      <td>71.00</td>\n",
              "    </tr>\n",
              "    <tr>\n",
              "      <th>56</th>\n",
              "      <td>Neutral Bay</td>\n",
              "      <td>Sargassum</td>\n",
              "      <td>S.39</td>\n",
              "      <td>3.45</td>\n",
              "      <td>1.70</td>\n",
              "      <td>11.25</td>\n",
              "      <td>10.98</td>\n",
              "      <td>0.80</td>\n",
              "      <td>114.18</td>\n",
              "      <td>114.18</td>\n",
              "    </tr>\n",
              "    <tr>\n",
              "      <th>57</th>\n",
              "      <td>Neutral Bay</td>\n",
              "      <td>Sargassum</td>\n",
              "      <td>S.40</td>\n",
              "      <td>1.31</td>\n",
              "      <td>1.66</td>\n",
              "      <td>10.15</td>\n",
              "      <td>6.65</td>\n",
              "      <td>2.42</td>\n",
              "      <td>63.30</td>\n",
              "      <td>63.30</td>\n",
              "    </tr>\n",
              "    <tr>\n",
              "      <th>58</th>\n",
              "      <td>Neutral Bay</td>\n",
              "      <td>Sargassum</td>\n",
              "      <td>S.41</td>\n",
              "      <td>2.42</td>\n",
              "      <td>1.71</td>\n",
              "      <td>12.44</td>\n",
              "      <td>11.56</td>\n",
              "      <td>1.43</td>\n",
              "      <td>76.52</td>\n",
              "      <td>76.52</td>\n",
              "    </tr>\n",
              "    <tr>\n",
              "      <th>59</th>\n",
              "      <td>Neutral Bay</td>\n",
              "      <td>Sargassum</td>\n",
              "      <td>S.42</td>\n",
              "      <td>1.56</td>\n",
              "      <td>2.81</td>\n",
              "      <td>20.79</td>\n",
              "      <td>10.03</td>\n",
              "      <td>1.49</td>\n",
              "      <td>63.18</td>\n",
              "      <td>63.18</td>\n",
              "    </tr>\n",
              "  </tbody>\n",
              "</table>\n",
              "</div>"
            ],
            "text/plain": [
              "        Location    Species   Rep    Cd  ...      Mn    Ni      Pb      Zn\n",
              "0     Balls Head     Padina  P.13  0.67  ...  106.94  1.52   32.62   96.52\n",
              "1     Balls Head     Padina  P.14  0.50  ...   81.98  2.74   28.77  134.64\n",
              "2     Balls Head     Padina  P.15  0.66  ...  124.26  3.17   62.13  150.57\n",
              "3     Balls Head     Padina  P.16  0.89  ...  155.92  2.43   52.46  113.51\n",
              "4     Balls Head     Padina  P.17  0.86  ...  160.90  1.62   47.75  126.34\n",
              "5     Balls Head     Padina  P.18  0.78  ...  166.70  4.16   71.59  130.13\n",
              "6     Balls Head  Sargassum  S.13  0.54  ...   15.20  1.60  142.26  142.26\n",
              "7     Balls Head  Sargassum  S.14  2.34  ...  109.05  1.67  220.29  220.29\n",
              "8     Balls Head  Sargassum  S.15  2.24  ...   85.52  2.50  197.29  197.29\n",
              "9     Balls Head  Sargassum  S.16  1.56  ...   67.08  1.93  153.52  153.52\n",
              "10    Balls Head  Sargassum  S.17  1.13  ...  113.23  4.33  198.70  198.70\n",
              "11    Balls Head  Sargassum  S.18  2.02  ...   95.31  3.91  218.22  218.22\n",
              "12    Berrys Bay     Padina  P.31  0.63  ...   76.55  2.02   24.57  110.57\n",
              "13    Berrys Bay     Padina  P.32  1.09  ...   45.16  1.45   32.05  110.22\n",
              "14    Berrys Bay     Padina  P.33  0.55  ...  146.54  3.05   46.38  140.82\n",
              "15    Berrys Bay     Padina  P.34  0.59  ...   67.75  2.35   33.35  124.16\n",
              "16    Berrys Bay     Padina  P.35  1.13  ...   38.19  2.74   22.80  102.17\n",
              "17    Berrys Bay     Padina  P.36  0.47  ...  111.92  1.04   41.19  136.84\n",
              "18    Berrys Bay  Sargassum  S.31  1.31  ...   12.07  4.04   62.84   62.84\n",
              "19    Berrys Bay  Sargassum  S.32  1.61  ...   17.29  3.46  154.74  154.74\n",
              "20    Berrys Bay  Sargassum  S.33  1.20  ...    9.73  8.77   88.61   88.61\n",
              "21    Berrys Bay  Sargassum  S.34  2.14  ...   24.97  1.35  100.76  100.76\n",
              "22    Berrys Bay  Sargassum  S.35  1.29  ...   12.96  2.10   70.54   70.54\n",
              "23    Berrys Bay  Sargassum  S.36  1.01  ...   23.87 -0.67   96.96   96.96\n",
              "24     Felix Bay     Padina  P.55  0.44  ...   33.16  2.13   23.32   76.06\n",
              "25     Felix Bay     Padina  P.56  1.14  ...   29.26  0.98   21.17   68.70\n",
              "26     Felix Bay     Padina  P.57  0.85  ...   48.85  2.84   42.69   85.13\n",
              "27     Felix Bay     Padina  P.58  0.92  ...   75.81  4.20   47.80  243.01\n",
              "28     Felix Bay     Padina  P.59  0.75  ...   25.50  0.63   24.66   79.51\n",
              "29     Felix Bay     Padina  P.60  0.39  ...   46.11  2.48  111.22   91.45\n",
              "30     Felix Bay  Sargassum  S.55  1.76  ...   19.61  2.41  102.06  102.06\n",
              "31     Felix Bay  Sargassum  S.56  2.16  ...   11.44  0.57   53.16   53.16\n",
              "32     Felix Bay  Sargassum  S.57  1.63  ...    7.66  0.53   40.21   40.21\n",
              "33     Felix Bay  Sargassum  S.58  2.25  ...    8.49  1.76   45.46   45.46\n",
              "34     Felix Bay  Sargassum  S.59  1.92  ...   13.19  1.47   97.76   97.76\n",
              "35     Felix Bay  Sargassum  S.60  2.43  ...    9.12  0.35   58.08   58.08\n",
              "36  Hermit Point     Padina  P.49  0.70  ...  104.83  2.85   42.11  100.75\n",
              "37  Hermit Point     Padina  P.50  0.59  ...   36.39  1.57   26.30   70.77\n",
              "38  Hermit Point     Padina  P.51  0.62  ...   50.17  2.60   16.59   89.78\n",
              "39  Hermit Point     Padina  P.52  0.86  ...   25.08  2.12   26.24   82.52\n",
              "40  Hermit Point     Padina  P.53  0.53  ...   33.97  2.52   19.33   94.37\n",
              "41  Hermit Point     Padina  P.54  0.88  ...   38.66  2.09   21.79   84.64\n",
              "42  Hermit Point  Sargassum  S.49  1.20  ...   31.64  2.21  133.87  133.87\n",
              "43  Hermit Point  Sargassum  S.50  1.52  ...   43.66  2.68  118.30  118.30\n",
              "44  Hermit Point  Sargassum  S.51  2.47  ...   46.85  3.81  143.08  143.08\n",
              "45  Hermit Point  Sargassum  S.52  2.56  ...   16.11  0.28   72.00   72.00\n",
              "46  Hermit Point  Sargassum  S.53  1.69  ...   17.57  1.76   77.94   77.94\n",
              "47  Hermit Point  Sargassum  S.54  2.00  ...   15.77  1.15   78.20   78.20\n",
              "48   Neutral Bay     Padina  P.37  0.73  ...   57.92  2.77   60.19  127.27\n",
              "49   Neutral Bay     Padina  P.38  0.71  ...   80.96  0.81   45.26  111.04\n",
              "50   Neutral Bay     Padina  P.39  0.77  ...  123.57  1.29   60.05  136.97\n",
              "51   Neutral Bay     Padina  P.40  0.87  ...   56.05  1.38   26.49   95.67\n",
              "52   Neutral Bay     Padina  P.41  1.57  ...   87.22  2.62   88.54  140.83\n",
              "53   Neutral Bay     Padina  P.42  0.91  ...   68.79  0.87   38.40   88.15\n",
              "54   Neutral Bay  Sargassum  S.37  2.34  ...   80.98  2.93  175.36  175.36\n",
              "55   Neutral Bay  Sargassum  S.38  0.15  ...    7.56 -0.21   71.00   71.00\n",
              "56   Neutral Bay  Sargassum  S.39  3.45  ...   10.98  0.80  114.18  114.18\n",
              "57   Neutral Bay  Sargassum  S.40  1.31  ...    6.65  2.42   63.30   63.30\n",
              "58   Neutral Bay  Sargassum  S.41  2.42  ...   11.56  1.43   76.52   76.52\n",
              "59   Neutral Bay  Sargassum  S.42  1.56  ...   10.03  1.49   63.18   63.18\n",
              "\n",
              "[60 rows x 10 columns]"
            ]
          },
          "metadata": {},
          "execution_count": 255
        }
      ]
    },
    {
      "cell_type": "code",
      "metadata": {
        "colab": {
          "base_uri": "https://localhost:8080/",
          "height": 374
        },
        "id": "Y2zNHVX8vUdL",
        "outputId": "76a49e05-2c8b-4e9d-8006-ae23fb255704"
      },
      "source": [
        "# Example comparing 2 metals and two species.\n",
        "plt.scatter(dfhm[dfhm['Species'].isin(['Padina'])].Cd,dfhm[dfhm['Species'].isin(['Padina'])].Pb,label = 'Group 1')\n",
        "plt.scatter(dfhm[dfhm['Species'].isin(['Sargassum'])].Cd,dfhm[dfhm['Species'].isin(['Sargassum'])].Pb,label = 'Group 2')\n",
        "plt.legend()\n",
        "plt.xlabel('$x_1$')\n",
        "plt.ylabel('$x_2$')\n"
      ],
      "execution_count": null,
      "outputs": [
        {
          "output_type": "execute_result",
          "data": {
            "text/plain": [
              "Text(0, 0.5, '$x_2$')"
            ]
          },
          "metadata": {},
          "execution_count": 256
        },
        {
          "output_type": "display_data",
          "data": {
            "image/png": "[encoded data removed]",
            "text/plain": [
              "<Figure size 720x360 with 1 Axes>"
            ]
          },
          "metadata": {
            "needs_background": "light"
          }
        }
      ]
    },
    {
      "cell_type": "code",
      "metadata": {
        "id": "nOLTlbiu-rfo"
      },
      "source": [
        "#Here is the raw 'distance' between the points.\n",
        "mets= dfhm.iloc[:,3:10]\n",
        "n=mets.shape[0]\n",
        "metclust = np.zeros([n,n])\n",
        "d = np.zeros([n,n])+np.nan\n",
        "for j in np.arange(n):\n",
        "    for k in np.arange(j):\n",
        "      d[j,k] = np.sum((mets.iloc[j,:]-mets.iloc[k,:])**2)\n",
        "plt.pcolor(d)\n",
        "\n"
      ],
      "execution_count": null,
      "outputs": []
    }
  ]
}